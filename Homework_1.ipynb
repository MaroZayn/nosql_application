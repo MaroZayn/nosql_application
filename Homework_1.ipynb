{
  "cells": [
    {
      "cell_type": "markdown",
      "source": [
        "##Khalid NASER ##\n",
        "\n"
      ],
      "metadata": {
        "id": "mK304zDan6NL"
      },
      "id": "mK304zDan6NL"
    },
    {
      "cell_type": "code",
      "execution_count": null,
      "id": "9c620f9d",
      "metadata": {
        "id": "9c620f9d"
      },
      "outputs": [],
      "source": [
        "# Importing packages\n",
        "import json\n",
        "import pymongo\n",
        "from bson import ObjectId\n",
        "\n",
        "client = pymongo.MongoClient('localhost', 27017)\n",
        "# create db tutorial\n",
        "mydb = client[\"homework\"]\n",
        "# create collection example\n",
        "collection = mydb[\"pubmed\"]\n",
        "with open('Chap3/pubmed_cleaned.json') as file:\n",
        "    file_data = json.load(file)"
      ]
    },
    {
      "cell_type": "code",
      "execution_count": null,
      "id": "6fd4696a",
      "metadata": {
        "id": "6fd4696a"
      },
      "outputs": [],
      "source": [
        "for document in file_data:\n",
        "    if '_id' in document and '$oid'in document['_id']:\n",
        "        document['_id']= ObjectId(document['_id']['$oid'])\n",
        "collection.insert_many(file_data)    "
      ]
    },
    {
      "cell_type": "code",
      "execution_count": null,
      "id": "dab35caf",
      "metadata": {
        "id": "dab35caf",
        "outputId": "96ac663d-b128-418b-b91a-e51159ecce0d"
      },
      "outputs": [
        {
          "data": {
            "text/plain": [
              "'pmid_1'"
            ]
          },
          "execution_count": 16,
          "metadata": {},
          "output_type": "execute_result"
        }
      ],
      "source": [
        "#1)Create an index, explain your choice of key.\n",
        "collection.create_index([ (\"pmid\",1) ])\n",
        "# the choice of indexing pmid field is because that's the field that i'm gonna search frequently in this exercice."
      ]
    },
    {
      "cell_type": "code",
      "execution_count": null,
      "id": "4382e053",
      "metadata": {
        "id": "4382e053",
        "outputId": "d3e2a717-7be6-4c46-cc94-6dfa796b14b9"
      },
      "outputs": [
        {
          "name": "stdout",
          "output_type": "stream",
          "text": [
            "Nombre de documents supprimés: 5\n"
          ]
        }
      ],
      "source": [
        "#2)Delete every paper that was published prior 2019\n",
        "result = collection.delete_many({\"date\": {\"$lt\": \"year 2019, month 1, day 1, hour 0, minute 0\"}})\n",
        "print(f\"Nombre de documents supprimés: {result.deleted_count}\")"
      ]
    },
    {
      "cell_type": "code",
      "execution_count": null,
      "id": "d90c35d8",
      "metadata": {
        "id": "d90c35d8",
        "outputId": "4d3880d7-5989-4ab8-dc63-84f0ed7af64f"
      },
      "outputs": [
        {
          "name": "stdout",
          "output_type": "stream",
          "text": [
            "Nombre de documents avec un seul auteur : 99409\n"
          ]
        }
      ],
      "source": [
        "num_single_author_papers = collection.count_documents({\"authors\": {\"$regex\": \"name ml\"}})\n",
        "print(f\"Nombre de documents avec un seul auteur : {num_single_author_papers}\")"
      ]
    },
    {
      "cell_type": "code",
      "execution_count": null,
      "id": "70779a23",
      "metadata": {
        "id": "70779a23",
        "outputId": "30147f31-38d7-4615-e647-191c50922c16"
      },
      "outputs": [
        {
          "name": "stdout",
          "output_type": "stream",
          "text": [
            "Nombre de documents avec un seul auteur : 5480\n",
            "Nombre de documents avec deux auteurs : 10153\n"
          ]
        }
      ],
      "source": [
        "# 3)How many paper have a single author ? Two authors ?\n",
        "num_single_author_documents = 0\n",
        "num_two_authors_documents = 0\n",
        "\n",
        "# Count The number of paper that have one or two authors\n",
        "for document in collection.find():\n",
        "    authors = document['authors'].split('\\n')\n",
        "    num_authors = len(authors)\n",
        "    if num_authors == 1:\n",
        "        num_single_author_documents += 1\n",
        "    elif num_authors == 2:\n",
        "        num_two_authors_documents += 1\n",
        "\n",
        "# Print results\n",
        "print(\"Nombre de documents avec un seul auteur :\", num_single_author_documents)\n",
        "print(\"Nombre de documents avec deux auteurs :\", num_two_authors_documents)"
      ]
    },
    {
      "cell_type": "code",
      "execution_count": null,
      "id": "2861856d",
      "metadata": {
        "id": "2861856d"
      },
      "outputs": [],
      "source": [
        "#4)What's the last paper inserted in the db ?\n",
        "x = collection.find_one(sort=[('_id', -1)])\n",
        "print(\"Last Paper:\")\n",
        "print(\"Title:\", last_paper['title'])\n",
        "print(\"Authors:\", last_paper['authors'])\n",
        "print(\"Date:\", last_paper['date'])"
      ]
    },
    {
      "cell_type": "code",
      "execution_count": null,
      "id": "e8625b34",
      "metadata": {
        "id": "e8625b34"
      },
      "outputs": [],
      "source": [
        "#5)Find articles with null meshwords.\n",
        "from pymongo import MongoClient\n",
        "\n",
        "client = MongoClient('localhost', 27017)\n",
        "db = client['homework']\n",
        "collection = db['pubmed']\n",
        "\n",
        "# Find articles with null meshwords\n",
        "articles_with_null_meshwords = collection.find({\"meshwords\": {\"$in\": [None, \"\"]}})\n",
        "\n",
        "# Print the details of articles with null meshwords\n",
        "print(\"Articles with null meshwords:\")\n",
        "for article in articles_with_null_meshwords:\n",
        "    print(\"Title:\", article['title'])"
      ]
    },
    {
      "cell_type": "code",
      "execution_count": null,
      "id": "2fdbd6d4",
      "metadata": {
        "id": "2fdbd6d4",
        "outputId": "9f24844e-be1a-4cb4-9683-91a6e26e2547"
      },
      "outputs": [
        {
          "name": "stdout",
          "output_type": "stream",
          "text": [
            "Number of articles with the keyword 'machine learning': 521\n"
          ]
        }
      ],
      "source": [
        "#6)Choose a keyword you are interested in (machine learning, computer vision,...). \n",
        "#Find the number of articles with the choosen keyword in their meshwords, abstract or title.\n",
        "from pymongo import MongoClient\n",
        "client = MongoClient('localhost', 27017)\n",
        "db = client['homework']\n",
        "collection = db['pubmed']\n",
        "keyword = \"machine learning\"\n",
        "\n",
        "# Count the number of articles with the keyword in meshwords, abstract, or title\n",
        "article_count = collection.count_documents({\n",
        "    \"$or\": [\n",
        "        {\"meshwords\": {\"$regex\": f\".*{keyword}.*\", \"$options\": \"i\"}},\n",
        "        {\"abstract\": {\"$regex\": f\".*{keyword}.*\", \"$options\": \"i\"}},\n",
        "        {\"title\": {\"$regex\": f\".*{keyword}.*\", \"$options\": \"i\"}}\n",
        "    ]\n",
        "})\n",
        "\n",
        "print(f\"Number of articles with the keyword '{keyword}': {article_count}\")"
      ]
    },
    {
      "cell_type": "code",
      "execution_count": null,
      "id": "6d9b04c5",
      "metadata": {
        "id": "6d9b04c5",
        "outputId": "8412e1f2-1cee-4056-b5e0-81e93d0518b5"
      },
      "outputs": [
        {
          "name": "stdout",
          "output_type": "stream",
          "text": [
            "Number of articles with at least one affiliation and meshwords: 75314\n"
          ]
        }
      ],
      "source": [
        "#7)What's the number of articles that have atleast one affiliation AND meshwords.\n",
        "from pymongo import MongoClient\n",
        "\n",
        "client = MongoClient('localhost', 27017)\n",
        "db = client['homework']\n",
        "collection = db['pubmed']\n",
        "\n",
        "article_count = collection.count_documents({\n",
        "    \"$and\": [\n",
        "        {\"authors\": {\"$ne\": None}},\n",
        "        {\"meshwords\": {\"$ne\": None}}\n",
        "    ]\n",
        "})\n",
        "\n",
        "print(f\"Number of articles with at least one affiliation and meshwords: {article_count}\")"
      ]
    },
    {
      "cell_type": "code",
      "execution_count": null,
      "id": "c1b6f1c6",
      "metadata": {
        "id": "c1b6f1c6"
      },
      "outputs": [],
      "source": [
        "from pymongo import MongoClient\n",
        "\n",
        "client = MongoClient('localhost', 27017)\n",
        "db = client['homework']\n",
        "collection = db['pubmed']"
      ]
    },
    {
      "cell_type": "code",
      "execution_count": null,
      "id": "5fb52369",
      "metadata": {
        "id": "5fb52369",
        "outputId": "4101f47c-5995-4b2a-c1f8-0df50cb720f1"
      },
      "outputs": [
        {
          "name": "stdout",
          "output_type": "stream",
          "text": [
            "Number of articles with a publishing date after 2020: 0\n"
          ]
        }
      ],
      "source": [
        "# 8)Count the number of articles with a publishing date after 2020\n",
        "article_count = collection.count_documents({\n",
        "    \"date\": {\"$gt\": \"year 2020\"}\n",
        "})\n",
        "\n",
        "print(f\"Number of articles with a publishing date after 2020: {article_count}\")"
      ]
    },
    {
      "cell_type": "code",
      "execution_count": null,
      "id": "2ef9e61f",
      "metadata": {
        "id": "2ef9e61f"
      },
      "outputs": [],
      "source": [
        "#9)Find articles where there's atleast one affiliation from a choosen country (you decide which one).\n",
        "# Count the number of articles with at least one affiliation from Canada\n",
        "article_count = collection.count_documents({\n",
        "    \"authors\": {\"$regex\": \"Canada\"}})\n",
        "print(\"Number of articles with at least one affiliation from Canada:\", article_count)\n",
        "article_country= collection.find({\"authors\":{\"$regex\": \"Canada\"}})\n",
        "for article in article_country:\n",
        "    print(\"ID:\", article[\"_id\"],\"Title :\", article[\"title\"])\n"
      ]
    },
    {
      "cell_type": "code",
      "execution_count": null,
      "id": "2b86229f",
      "metadata": {
        "id": "2b86229f",
        "outputId": "28ef106d-c434-4293-9f39-49bad51b1012"
      },
      "outputs": [
        {
          "name": "stdout",
          "output_type": "stream",
          "text": [
            "No duplicates found.\n"
          ]
        }
      ],
      "source": [
        "#10)Check for any duplicates\n",
        "distinct_pmids = collection.distinct(\"pmid\")\n",
        "# Check for duplicates\n",
        "duplicates = len(distinct_pmids) != collection.count_documents({})\n",
        "# Print the result\n",
        "if duplicates:\n",
        "    print(\"Duplicates found.\")\n",
        "else:\n",
        "    print(\"No duplicates found.\")"
      ]
    },
    {
      "cell_type": "code",
      "execution_count": null,
      "id": "8c8f47e0",
      "metadata": {
        "id": "8c8f47e0",
        "outputId": "467ccec7-c377-4f87-88c9-fa54395b04c9"
      },
      "outputs": [
        {
          "name": "stdout",
          "output_type": "stream",
          "text": [
            "init count:  1918\n",
            "after delete many:  0\n"
          ]
        }
      ],
      "source": [
        "#11)Remove every articles where the abstract starts with an \"R\".\n",
        "print(\"init count: \",collection.count_documents({\"abstract\": {\"$regex\": \"^\\\\s*\\\"R\"}}))\n",
        "collection.delete_many({\"abstract\": {\"$regex\": \"^\\\\s*\\\"R\"}})\n",
        "print(\"after delete many: \",collection.count_documents({\"abstract\": {\"$regex\": \"^\\\\s*\\\"R\"}}))"
      ]
    },
    {
      "cell_type": "code",
      "execution_count": null,
      "id": "6c2e0b31",
      "metadata": {
        "id": "6c2e0b31"
      },
      "outputs": [],
      "source": [
        "#12)Return the list of papers (pmid) where there's atleast one affiliation per author\n",
        "papers = collection.find(\n",
        "    {\"authors\": {\"$exists\": True}}\n",
        ")\n",
        "paper_list = [paper[\"pmid\"] for paper in papers if len(paper.get(\"authors\", [])) > 0]\n",
        "print(paper_list)"
      ]
    }
  ],
  "metadata": {
    "kernelspec": {
      "display_name": "Python 3 (ipykernel)",
      "language": "python",
      "name": "python3"
    },
    "language_info": {
      "codemirror_mode": {
        "name": "ipython",
        "version": 3
      },
      "file_extension": ".py",
      "mimetype": "text/x-python",
      "name": "python",
      "nbconvert_exporter": "python",
      "pygments_lexer": "ipython3",
      "version": "3.9.13"
    },
    "colab": {
      "provenance": []
    }
  },
  "nbformat": 4,
  "nbformat_minor": 5
}