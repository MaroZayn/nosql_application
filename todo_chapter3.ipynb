{
 "cells": [
  {
   "cell_type": "code",
   "execution_count": 16,
   "id": "b67c53a8",
   "metadata": {},
   "outputs": [],
   "source": [
    "import pymongo\n",
    "import tqdm\n",
    "client = pymongo.MongoClient('localhost', 27017)\n",
    "# create db tutorial\n",
    "mydb = client[\"Todo\"]\n",
    "# create collection example\n",
    "collection = mydb[\"CRUD_exercise\"]"
   ]
  },
  {
   "cell_type": "code",
   "execution_count": 12,
   "id": "f14b3d02",
   "metadata": {},
   "outputs": [],
   "source": [
    "#TODO 1: Take the dict created in the TODO 4 in chapter II \n",
    "#and save it in the collection \"CRUD_exercise\"."
   ]
  },
  {
   "cell_type": "code",
   "execution_count": 13,
   "id": "95eca522",
   "metadata": {},
   "outputs": [],
   "source": [
    "post={\"LeCun et al.\": {\"authors\": [\"Yann LeCun\", \"Yoshua Bengio\", \"Geoffrey Hinton\"], \"title\": \"Deep Learning\", \"affiliation\": \"Universit\\u00e9 de Montr\\u00e9al\"}, \n",
    "      \"Goodfellow et al.\": {\"authors\": [\"Ian J. Goodfellow\", \"Jean Pouget-Abadie\", \"Mehdi Mirza\", \"Bing Xu\", \"David Warde-Farley\", \"Sherjil Ozair\", \"Aaron Courville\", \"Yoshua Bengio\"], \"title\": \"Generative Adversarial Networks\", \"affiliation\": \"Cornell University\"}}"
   ]
  },
  {
   "cell_type": "code",
   "execution_count": 14,
   "id": "56a28d7f",
   "metadata": {},
   "outputs": [
    {
     "data": {
      "text/plain": [
       "<pymongo.results.InsertOneResult at 0x180f2571f40>"
      ]
     },
     "execution_count": 14,
     "metadata": {},
     "output_type": "execute_result"
    }
   ],
   "source": [
    "collection.insert_one(post)\n"
   ]
  },
  {
   "cell_type": "code",
   "execution_count": 17,
   "id": "5dd2ca79",
   "metadata": {},
   "outputs": [
    {
     "name": "stderr",
     "output_type": "stream",
     "text": [
      "100%|██████████| 3/3 [00:00<00:00, 166.51it/s]\n"
     ]
    }
   ],
   "source": [
    "#TODO 2: Insert 3 documents with key = x and values = 1, delete one of them\n",
    "for i in tqdm.tqdm(range(3)):\n",
    "    new = {\"x\": 1}\n",
    "    collection.insert_one(new)"
   ]
  },
  {
   "cell_type": "code",
   "execution_count": 18,
   "id": "fa22426d",
   "metadata": {},
   "outputs": [
    {
     "name": "stdout",
     "output_type": "stream",
     "text": [
      "<pymongo.cursor.Cursor object at 0x00000180F2571FD0>\n",
      "{'_id': ObjectId('64347f870fc7f8855b5de10c'), 'LeCun et al.': {'authors': ['Yann LeCun', 'Yoshua Bengio', 'Geoffrey Hinton'], 'title': 'Deep Learning', 'affiliation': 'Université de Montréal'}, 'Goodfellow et al.': {'authors': ['Ian J. Goodfellow', 'Jean Pouget-Abadie', 'Mehdi Mirza', 'Bing Xu', 'David Warde-Farley', 'Sherjil Ozair', 'Aaron Courville', 'Yoshua Bengio'], 'title': 'Generative Adversarial Networks', 'affiliation': 'Cornell University'}}\n",
      "{'_id': ObjectId('64347fd70fc7f8855b5de10e'), 'x': 1}\n",
      "{'_id': ObjectId('64347fd70fc7f8855b5de10f'), 'x': 1}\n",
      "{'_id': ObjectId('64347fd70fc7f8855b5de110'), 'x': 1}\n"
     ]
    }
   ],
   "source": [
    "docs = collection.find()\n",
    "print(docs)\n",
    "for doc in docs:\n",
    "    print(doc)"
   ]
  },
  {
   "cell_type": "code",
   "execution_count": 19,
   "id": "b238317e",
   "metadata": {},
   "outputs": [
    {
     "data": {
      "text/plain": [
       "<pymongo.results.DeleteResult at 0x180f2571730>"
      ]
     },
     "execution_count": 19,
     "metadata": {},
     "output_type": "execute_result"
    }
   ],
   "source": [
    "collection.delete_one({'x': 1})"
   ]
  },
  {
   "cell_type": "code",
   "execution_count": 20,
   "id": "4f257208",
   "metadata": {},
   "outputs": [
    {
     "name": "stdout",
     "output_type": "stream",
     "text": [
      "<pymongo.cursor.Cursor object at 0x00000180F2633D30>\n",
      "{'_id': ObjectId('64347f870fc7f8855b5de10c'), 'LeCun et al.': {'authors': ['Yann LeCun', 'Yoshua Bengio', 'Geoffrey Hinton'], 'title': 'Deep Learning', 'affiliation': 'Université de Montréal'}, 'Goodfellow et al.': {'authors': ['Ian J. Goodfellow', 'Jean Pouget-Abadie', 'Mehdi Mirza', 'Bing Xu', 'David Warde-Farley', 'Sherjil Ozair', 'Aaron Courville', 'Yoshua Bengio'], 'title': 'Generative Adversarial Networks', 'affiliation': 'Cornell University'}}\n",
      "{'_id': ObjectId('64347fd70fc7f8855b5de10f'), 'x': 1}\n",
      "{'_id': ObjectId('64347fd70fc7f8855b5de110'), 'x': 1}\n"
     ]
    }
   ],
   "source": [
    "docs = collection.find()\n",
    "print(docs)\n",
    "for doc in docs:\n",
    "    print(doc)"
   ]
  },
  {
   "cell_type": "code",
   "execution_count": 21,
   "id": "c6ca7337",
   "metadata": {},
   "outputs": [],
   "source": [
    "#Which one is deleted first ? the first one that has been insert"
   ]
  },
  {
   "cell_type": "code",
   "execution_count": 22,
   "id": "011e28de",
   "metadata": {},
   "outputs": [
    {
     "data": {
      "text/plain": [
       "<pymongo.results.UpdateResult at 0x180f2571820>"
      ]
     },
     "execution_count": 22,
     "metadata": {},
     "output_type": "execute_result"
    }
   ],
   "source": [
    "#increment the value of x to 4.\n",
    "collection.update_many({'x': 1}, {'$inc': {'x': 4}})"
   ]
  },
  {
   "cell_type": "code",
   "execution_count": 23,
   "id": "762b50fd",
   "metadata": {},
   "outputs": [
    {
     "data": {
      "text/plain": [
       "<pymongo.results.UpdateResult at 0x180f25715b0>"
      ]
     },
     "execution_count": 23,
     "metadata": {},
     "output_type": "execute_result"
    }
   ],
   "source": [
    "collection.update_many({'x': 5}, {'$set': {'x': 4}})"
   ]
  },
  {
   "cell_type": "code",
   "execution_count": 25,
   "id": "5768ea0b",
   "metadata": {},
   "outputs": [],
   "source": [
    "#TODO 3: Insert the dict created in the TODO 6 Chapter II in the example collection.\n",
    "client_2 = pymongo.MongoClient('localhost', 27017)\n",
    "# create db tutorial\n",
    "mydb_2 = client_2[\"tutorial\"]\n",
    "# create collection example\n",
    "collection_2 = mydb_2[\"example\"]\n"
   ]
  },
  {
   "cell_type": "code",
   "execution_count": 26,
   "id": "004d5e61",
   "metadata": {},
   "outputs": [
    {
     "name": "stdout",
     "output_type": "stream",
     "text": [
      "<pymongo.cursor.Cursor object at 0x00000180F2657730>\n"
     ]
    }
   ],
   "source": [
    "dat = collection2.find()\n",
    "print(dat)\n",
    "for d in dat:\n",
    "    print(d)"
   ]
  },
  {
   "cell_type": "code",
   "execution_count": 27,
   "id": "72dfee65",
   "metadata": {},
   "outputs": [
    {
     "data": {
      "text/plain": [
       "<pymongo.results.InsertOneResult at 0x180f263e610>"
      ]
     },
     "execution_count": 27,
     "metadata": {},
     "output_type": "execute_result"
    }
   ],
   "source": [
    "dict_chap2={\"date\": [\"2015-09-01\"], \"hour\": [\"08:30\"], \"recipient\": [\"Tove\"], \"sender\": [\"Jani\"], \"body\": [\"Don't forget me this weekend!\"]}\n",
    "collection2.insert_one(dict_chap2)"
   ]
  },
  {
   "cell_type": "code",
   "execution_count": 28,
   "id": "6e12065c",
   "metadata": {},
   "outputs": [
    {
     "name": "stdout",
     "output_type": "stream",
     "text": [
      "None\n"
     ]
    }
   ],
   "source": [
    "#TODO 4: Get documents where authors key exist in the collection \"CRUD_exercise\".\n",
    "key=collection.find_one({'authors': {\"$exists\": True}})\n",
    "print(key)"
   ]
  },
  {
   "cell_type": "code",
   "execution_count": 29,
   "id": "2d923c59",
   "metadata": {},
   "outputs": [
    {
     "data": {
      "text/plain": [
       "<pymongo.results.UpdateResult at 0x180f086b040>"
      ]
     },
     "execution_count": 29,
     "metadata": {},
     "output_type": "execute_result"
    }
   ],
   "source": [
    "#TODO 5: Change the documents where x = 4 to x = 1.\n",
    "collection.update_many({'x': 4}, {'$set': {'x': 1}})"
   ]
  },
  {
   "cell_type": "code",
   "execution_count": 30,
   "id": "fe1c4c7d",
   "metadata": {},
   "outputs": [
    {
     "data": {
      "text/plain": [
       "<pymongo.results.UpdateResult at 0x180f2633d90>"
      ]
     },
     "execution_count": 30,
     "metadata": {},
     "output_type": "execute_result"
    }
   ],
   "source": [
    "collection2.update_many({'x': 4}, {'$set': {'x': 1}})"
   ]
  },
  {
   "cell_type": "code",
   "execution_count": 31,
   "id": "aa91d5b4",
   "metadata": {},
   "outputs": [
    {
     "name": "stdout",
     "output_type": "stream",
     "text": [
      "None\n"
     ]
    }
   ],
   "source": [
    "#TODO 6: Find documents where author is not_mike and set author as real_mike.\n",
    "a=collection.find_one_and_update({'author': \"not_mike\"}, {'$set': {'author': \"real_mike\"}})\n",
    "print(a)"
   ]
  },
  {
   "cell_type": "code",
   "execution_count": 33,
   "id": "c2df28e2",
   "metadata": {},
   "outputs": [
    {
     "data": {
      "text/plain": [
       "<pymongo.results.DeleteResult at 0x180f2657df0>"
      ]
     },
     "execution_count": 33,
     "metadata": {},
     "output_type": "execute_result"
    }
   ],
   "source": [
    "#TODO 7: Delete documents where author is real_mike.\n",
    "collection2.delete_many({'author': 'real_mike'})"
   ]
  },
  {
   "cell_type": "code",
   "execution_count": 35,
   "id": "ceae1b39",
   "metadata": {},
   "outputs": [],
   "source": [
    "#Managing DB\n",
    "#TODO 8: create a collection named \"CRUD_exercise_benchmark\" with 500k observations,\n",
    "#ids increment of 2 (sequence:0,2,4,6,...1M). Give a random np.array with a key named \"values\" \n",
    "#and use the insert_many. \n",
    "#Then create an index on the id and benchmark queries before and after indexing. Did the index help ?\n",
    "import numpy as np\n",
    "client = pymongo.MongoClient('localhost',27017)\n",
    "mydb = client[\"tutorial\"]\n",
    "collection = mydb[\"CRUD_exercise_benchmark\"]"
   ]
  },
  {
   "cell_type": "code",
   "execution_count": 36,
   "id": "856a0760",
   "metadata": {},
   "outputs": [
    {
     "name": "stderr",
     "output_type": "stream",
     "text": [
      "100%|██████████| 500000/500000 [00:11<00:00, 43354.52it/s]\n"
     ]
    },
    {
     "data": {
      "text/plain": [
       "<pymongo.results.InsertManyResult at 0x180f263eee0>"
      ]
     },
     "execution_count": 36,
     "metadata": {},
     "output_type": "execute_result"
    }
   ],
   "source": [
    "list_of_insertion = []\n",
    "for i in tqdm.tqdm(range(0, 1000000, 2)):\n",
    "    post = {\"_id\": i, \n",
    "             \"values\": np.random.rand(5).tolist()}\n",
    "    list_of_insertion.append(post)\n",
    "collection.insert_many(list_of_insertion)"
   ]
  },
  {
   "cell_type": "code",
   "execution_count": 37,
   "id": "a1a63a58",
   "metadata": {},
   "outputs": [
    {
     "data": {
      "text/plain": [
       "'_id_1'"
      ]
     },
     "execution_count": 37,
     "metadata": {},
     "output_type": "execute_result"
    }
   ],
   "source": [
    "collection.create_index([ (\"_id\",1) ])"
   ]
  },
  {
   "cell_type": "code",
   "execution_count": 38,
   "id": "459afb02",
   "metadata": {},
   "outputs": [],
   "source": [
    "import timeit\n"
   ]
  },
  {
   "cell_type": "code",
   "execution_count": 39,
   "id": "27731bb4",
   "metadata": {},
   "outputs": [],
   "source": [
    "def query_without_index():\n",
    "    cursor = collection.find({\"_id\": {\"$lt\": 100000}})\n",
    "    for document in cursor:\n",
    "        pass"
   ]
  },
  {
   "cell_type": "code",
   "execution_count": 40,
   "id": "97da6e25",
   "metadata": {},
   "outputs": [],
   "source": [
    "time_without_index = timeit.timeit(query_without_index, number=100)"
   ]
  },
  {
   "cell_type": "code",
   "execution_count": 41,
   "id": "39dcf197",
   "metadata": {},
   "outputs": [],
   "source": [
    "def query_with_index():\n",
    "    cursor = collection.find({\"_id\": {\"$lt\": 100000}}).sort(\"_id\", 1)\n",
    "    for document in cursor:\n",
    "        pass"
   ]
  },
  {
   "cell_type": "code",
   "execution_count": 45,
   "id": "80450336",
   "metadata": {},
   "outputs": [
    {
     "name": "stdout",
     "output_type": "stream",
     "text": [
      "Time without index: 54.8900 seconds\n",
      "Time with index: 0.3489 seconds\n"
     ]
    }
   ],
   "source": [
    "time_with_index = timeit.timeit(query_with_index, number=100)\n",
    "\n",
    "print(f\"Time without index: {time_without_index:.4f} seconds\")\n",
    "print(f\"Time with index: {time_with_index:.4f} seconds\")"
   ]
  },
  {
   "cell_type": "code",
   "execution_count": 46,
   "id": "9ffcf42c",
   "metadata": {},
   "outputs": [
    {
     "data": {
      "text/plain": [
       "'mydb_929'"
      ]
     },
     "execution_count": 46,
     "metadata": {},
     "output_type": "execute_result"
    }
   ],
   "source": [
    "#TODO 9: create a random collection in a random db and put the new collection in the tutorial DB\n",
    "db_name = \"mydb_\" + str(np.random.randint(10000))\n",
    "db = client[db_name]\n",
    "collection = db[\"random_collection\"]\n",
    "db_name"
   ]
  },
  {
   "cell_type": "code",
   "execution_count": 48,
   "id": "4d732ecb",
   "metadata": {},
   "outputs": [],
   "source": [
    "tutorial_db=client[\"tutorial\"]\n",
    "collection = tutorial_db [\"new_collection\"]"
   ]
  },
  {
   "cell_type": "code",
   "execution_count": null,
   "id": "3346a3ca",
   "metadata": {},
   "outputs": [],
   "source": []
  }
 ],
 "metadata": {
  "kernelspec": {
   "display_name": "Python 3 (ipykernel)",
   "language": "python",
   "name": "python3"
  },
  "language_info": {
   "codemirror_mode": {
    "name": "ipython",
    "version": 3
   },
   "file_extension": ".py",
   "mimetype": "text/x-python",
   "name": "python",
   "nbconvert_exporter": "python",
   "pygments_lexer": "ipython3",
   "version": "3.9.13"
  }
 },
 "nbformat": 4,
 "nbformat_minor": 5
}
