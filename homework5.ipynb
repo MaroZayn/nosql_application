{
 "cells": [
  {
   "cell_type": "markdown",
   "id": "b9c27f04-c613-4d8c-9b0e-67e3c610c3c7",
   "metadata": {},
   "source": [
    "### BATINA AGASA FERVENT\n",
    "#### Homework 5"
   ]
  },
  {
   "cell_type": "code",
   "execution_count": 1,
   "id": "ec5bd0e2-7dec-42e2-a8fb-da2cdb7863fe",
   "metadata": {},
   "outputs": [
    {
     "name": "stderr",
     "output_type": "stream",
     "text": [
      "6549it [00:55, 118.22it/s]\n"
     ]
    },
    {
     "data": {
      "text/html": [
       "(No data)"
      ],
      "text/plain": [
       "(No data)"
      ]
     },
     "execution_count": 1,
     "metadata": {},
     "output_type": "execute_result"
    }
   ],
   "source": [
    "import pandas as pd\n",
    "import tqdm\n",
    "import py2neo\n",
    "from py2neo import Graph, Node, Relationship\n",
    "import csv\n",
    "import tqdm\n",
    "import itertools\n",
    "\n",
    "FR_target = pd.read_csv(r\"C:\\Users\\ferve\\Documents\\NoSQL\\Homeworks\\FR_target.csv\")\n",
    "\n",
    "FR_target.drop_duplicates('new_id', inplace = True)\n",
    "\n",
    "graph = py2neo.Graph(\"bolt://localhost:7687\", auth=(\"neo4j\", \"password_tuts\"),name=\"neo4j\")\n",
    "graph.delete_all()\n",
    "\n",
    "try:\n",
    "    graph.run(\"CREATE CONSTRAINT ON (n:Streamer) ASSERT n.id_ IS UNIQUE\")\n",
    "except:\n",
    "    print(\"Constraint already exists\")\n",
    "\n",
    "transaction_list = []\n",
    "iteration = 0\n",
    "\n",
    "for row in tqdm.tqdm(FR_target.iterrows()):\n",
    "    id_ = row[1][\"id\"]\n",
    "    views = row[1][\"views\"]\n",
    "    days = row[1][\"days\"]\n",
    "    mature = row[1][\"mature\"]\n",
    "    new_id = row[1][\"new_id\"]\n",
    "    partner = row[1][\"partner\"]\n",
    "    transaction_list.append({\"id_\":id_,\"views\":views,\"days\":days,\"mature\":mature,\"new_id\":new_id,\"partner\":partner})\n",
    "    iteration += 1\n",
    "    transaction = \"UNWIND $json as data CREATE (n:Streamer) SET n = data\"\n",
    "    graph.run(transaction, json=transaction_list)\n",
    "    transaction_list = []\n",
    "    \n",
    "    \n",
    "graph.run(transaction, json=transaction_list)"
   ]
  },
  {
   "cell_type": "code",
   "execution_count": 2,
   "id": "eb46a4a4-8080-4346-a497-bc3fa5ec9127",
   "metadata": {},
   "outputs": [
    {
     "name": "stdout",
     "output_type": "stream",
     "text": [
      "             id  days  mature  views  partner  new_id\n",
      "0     150417538   577    True    775    False    4867\n",
      "1     125723704   861    True   2585    False    3692\n",
      "2     155971814   523   False   1566    False    3816\n",
      "3      35832890  2234   False   9713    False     416\n",
      "4      46787750  1896    True  44529    False    4502\n",
      "...         ...   ...     ...    ...      ...     ...\n",
      "6546   29196284  2061   False   3822    False    6546\n",
      "6547  124327806   880    True  30313    False    2392\n",
      "6548  144229380   640    True   5022    False     391\n",
      "6549  131423064   736   False   2658    False    2793\n",
      "6550   45419243  1929    True   3743    False    1092\n",
      "\n",
      "[6549 rows x 6 columns]\n"
     ]
    }
   ],
   "source": [
    "print(FR_target)"
   ]
  },
  {
   "cell_type": "code",
   "execution_count": 3,
   "id": "61006fc0-6da1-4203-8180-1119b07b296f",
   "metadata": {},
   "outputs": [
    {
     "name": "stderr",
     "output_type": "stream",
     "text": [
      "  1%|          | 38/5882 [03:14<8:17:45,  5.11s/it] \n"
     ]
    },
    {
     "ename": "KeyboardInterrupt",
     "evalue": "",
     "output_type": "error",
     "traceback": [
      "\u001b[1;31m---------------------------------------------------------------------------\u001b[0m",
      "\u001b[1;31mKeyboardInterrupt\u001b[0m                         Traceback (most recent call last)",
      "\u001b[1;32m~\\AppData\\Local\\Temp/ipykernel_3036/2385679670.py\u001b[0m in \u001b[0;36m<module>\u001b[1;34m\u001b[0m\n\u001b[0;32m     18\u001b[0m         \u001b[0mtransaction_list\u001b[0m\u001b[1;33m.\u001b[0m\u001b[0mappend\u001b[0m\u001b[1;33m(\u001b[0m\u001b[1;33m{\u001b[0m\u001b[1;34m\"from\"\u001b[0m\u001b[1;33m:\u001b[0m\u001b[0msh1\u001b[0m\u001b[1;33m,\u001b[0m\u001b[1;34m\"to\"\u001b[0m\u001b[1;33m:\u001b[0m\u001b[0msh2\u001b[0m\u001b[1;33m}\u001b[0m\u001b[1;33m)\u001b[0m\u001b[1;33m\u001b[0m\u001b[1;33m\u001b[0m\u001b[0m\n\u001b[0;32m     19\u001b[0m         \u001b[0mit\u001b[0m \u001b[1;33m+=\u001b[0m\u001b[1;36m1\u001b[0m\u001b[1;33m\u001b[0m\u001b[1;33m\u001b[0m\u001b[0m\n\u001b[1;32m---> 20\u001b[1;33m         \u001b[0mgraph\u001b[0m\u001b[1;33m.\u001b[0m\u001b[0mrun\u001b[0m\u001b[1;33m(\u001b[0m\u001b[0mtransaction\u001b[0m\u001b[1;33m,\u001b[0m \u001b[0mjson\u001b[0m\u001b[1;33m=\u001b[0m\u001b[0mtransaction_list\u001b[0m\u001b[1;33m)\u001b[0m\u001b[1;33m\u001b[0m\u001b[1;33m\u001b[0m\u001b[0m\n\u001b[0m\u001b[0;32m     21\u001b[0m         \u001b[0mtransaction_list\u001b[0m \u001b[1;33m=\u001b[0m \u001b[1;33m[\u001b[0m\u001b[1;33m]\u001b[0m\u001b[1;33m\u001b[0m\u001b[1;33m\u001b[0m\u001b[0m\n\u001b[0;32m     22\u001b[0m \u001b[0mgraph\u001b[0m\u001b[1;33m.\u001b[0m\u001b[0mrun\u001b[0m\u001b[1;33m(\u001b[0m\u001b[0mtransaction\u001b[0m\u001b[1;33m,\u001b[0m \u001b[0mjson\u001b[0m\u001b[1;33m=\u001b[0m\u001b[0mtransaction_list\u001b[0m\u001b[1;33m)\u001b[0m\u001b[1;33m\u001b[0m\u001b[1;33m\u001b[0m\u001b[0m\n",
      "\u001b[1;32m~\\anaconda3\\lib\\site-packages\\py2neo\\database.py\u001b[0m in \u001b[0;36mrun\u001b[1;34m(self, cypher, parameters, **kwparameters)\u001b[0m\n\u001b[0;32m    403\u001b[0m         \u001b[1;33m:\u001b[0m\u001b[1;32mreturn\u001b[0m\u001b[1;33m:\u001b[0m\u001b[1;33m\u001b[0m\u001b[1;33m\u001b[0m\u001b[0m\n\u001b[0;32m    404\u001b[0m         \"\"\"\n\u001b[1;32m--> 405\u001b[1;33m         \u001b[1;32mreturn\u001b[0m \u001b[0mself\u001b[0m\u001b[1;33m.\u001b[0m\u001b[0mauto\u001b[0m\u001b[1;33m(\u001b[0m\u001b[1;33m)\u001b[0m\u001b[1;33m.\u001b[0m\u001b[0mrun\u001b[0m\u001b[1;33m(\u001b[0m\u001b[0mcypher\u001b[0m\u001b[1;33m,\u001b[0m \u001b[0mparameters\u001b[0m\u001b[1;33m,\u001b[0m \u001b[1;33m**\u001b[0m\u001b[0mkwparameters\u001b[0m\u001b[1;33m)\u001b[0m\u001b[1;33m\u001b[0m\u001b[1;33m\u001b[0m\u001b[0m\n\u001b[0m\u001b[0;32m    406\u001b[0m \u001b[1;33m\u001b[0m\u001b[0m\n\u001b[0;32m    407\u001b[0m     \u001b[1;32mdef\u001b[0m \u001b[0mevaluate\u001b[0m\u001b[1;33m(\u001b[0m\u001b[0mself\u001b[0m\u001b[1;33m,\u001b[0m \u001b[0mcypher\u001b[0m\u001b[1;33m,\u001b[0m \u001b[0mparameters\u001b[0m\u001b[1;33m=\u001b[0m\u001b[1;32mNone\u001b[0m\u001b[1;33m,\u001b[0m \u001b[1;33m**\u001b[0m\u001b[0mkwparameters\u001b[0m\u001b[1;33m)\u001b[0m\u001b[1;33m:\u001b[0m\u001b[1;33m\u001b[0m\u001b[1;33m\u001b[0m\u001b[0m\n",
      "\u001b[1;32m~\\anaconda3\\lib\\site-packages\\py2neo\\database.py\u001b[0m in \u001b[0;36mrun\u001b[1;34m(self, cypher, parameters, **kwparameters)\u001b[0m\n\u001b[0;32m    990\u001b[0m                                                   \u001b[0mgraph_name\u001b[0m\u001b[1;33m=\u001b[0m\u001b[0mself\u001b[0m\u001b[1;33m.\u001b[0m\u001b[0mgraph\u001b[0m\u001b[1;33m.\u001b[0m\u001b[0mname\u001b[0m\u001b[1;33m,\u001b[0m\u001b[1;33m\u001b[0m\u001b[1;33m\u001b[0m\u001b[0m\n\u001b[0;32m    991\u001b[0m                                                   readonly=self.readonly)\n\u001b[1;32m--> 992\u001b[1;33m             \u001b[0mself\u001b[0m\u001b[1;33m.\u001b[0m\u001b[0m_connector\u001b[0m\u001b[1;33m.\u001b[0m\u001b[0mpull\u001b[0m\u001b[1;33m(\u001b[0m\u001b[0mresult\u001b[0m\u001b[1;33m,\u001b[0m \u001b[1;33m-\u001b[0m\u001b[1;36m1\u001b[0m\u001b[1;33m)\u001b[0m\u001b[1;33m\u001b[0m\u001b[1;33m\u001b[0m\u001b[0m\n\u001b[0m\u001b[0;32m    993\u001b[0m             \u001b[1;32mreturn\u001b[0m \u001b[0mCursor\u001b[0m\u001b[1;33m(\u001b[0m\u001b[0mresult\u001b[0m\u001b[1;33m,\u001b[0m \u001b[0mhydrant\u001b[0m\u001b[1;33m)\u001b[0m\u001b[1;33m\u001b[0m\u001b[1;33m\u001b[0m\u001b[0m\n\u001b[0;32m    994\u001b[0m         \u001b[1;32mfinally\u001b[0m\u001b[1;33m:\u001b[0m\u001b[1;33m\u001b[0m\u001b[1;33m\u001b[0m\u001b[0m\n",
      "\u001b[1;32m~\\anaconda3\\lib\\site-packages\\py2neo\\client\\__init__.py\u001b[0m in \u001b[0;36mpull\u001b[1;34m(self, result, n)\u001b[0m\n\u001b[0;32m   1432\u001b[0m         \u001b[0mcx\u001b[0m \u001b[1;33m=\u001b[0m \u001b[0mself\u001b[0m\u001b[1;33m.\u001b[0m\u001b[0m_reacquire\u001b[0m\u001b[1;33m(\u001b[0m\u001b[0mresult\u001b[0m\u001b[1;33m.\u001b[0m\u001b[0mtransaction\u001b[0m\u001b[1;33m)\u001b[0m\u001b[1;33m\u001b[0m\u001b[1;33m\u001b[0m\u001b[0m\n\u001b[0;32m   1433\u001b[0m         \u001b[1;32mtry\u001b[0m\u001b[1;33m:\u001b[0m\u001b[1;33m\u001b[0m\u001b[1;33m\u001b[0m\u001b[0m\n\u001b[1;32m-> 1434\u001b[1;33m             \u001b[0mcx\u001b[0m\u001b[1;33m.\u001b[0m\u001b[0mpull\u001b[0m\u001b[1;33m(\u001b[0m\u001b[0mresult\u001b[0m\u001b[1;33m,\u001b[0m \u001b[0mn\u001b[0m\u001b[1;33m=\u001b[0m\u001b[0mn\u001b[0m\u001b[1;33m)\u001b[0m\u001b[1;33m\u001b[0m\u001b[1;33m\u001b[0m\u001b[0m\n\u001b[0m\u001b[0;32m   1435\u001b[0m         \u001b[1;32mexcept\u001b[0m \u001b[1;33m(\u001b[0m\u001b[0mConnectionUnavailable\u001b[0m\u001b[1;33m,\u001b[0m \u001b[0mConnectionBroken\u001b[0m\u001b[1;33m)\u001b[0m\u001b[1;33m:\u001b[0m\u001b[1;33m\u001b[0m\u001b[1;33m\u001b[0m\u001b[0m\n\u001b[0;32m   1436\u001b[0m             \u001b[0mself\u001b[0m\u001b[1;33m.\u001b[0m\u001b[0mprune\u001b[0m\u001b[1;33m(\u001b[0m\u001b[0mcx\u001b[0m\u001b[1;33m.\u001b[0m\u001b[0mprofile\u001b[0m\u001b[1;33m)\u001b[0m\u001b[1;33m\u001b[0m\u001b[1;33m\u001b[0m\u001b[0m\n",
      "\u001b[1;32m~\\anaconda3\\lib\\site-packages\\py2neo\\client\\bolt.py\u001b[0m in \u001b[0;36mpull\u001b[1;34m(self, result, n, capacity)\u001b[0m\n\u001b[0;32m    993\u001b[0m         \u001b[0mresult\u001b[0m\u001b[1;33m.\u001b[0m\u001b[0mappend\u001b[0m\u001b[1;33m(\u001b[0m\u001b[0mresponse\u001b[0m\u001b[1;33m,\u001b[0m \u001b[0mfinal\u001b[0m\u001b[1;33m=\u001b[0m\u001b[1;33m(\u001b[0m\u001b[0mn\u001b[0m \u001b[1;33m==\u001b[0m \u001b[1;33m-\u001b[0m\u001b[1;36m1\u001b[0m\u001b[1;33m)\u001b[0m\u001b[1;33m)\u001b[0m\u001b[1;33m\u001b[0m\u001b[1;33m\u001b[0m\u001b[0m\n\u001b[0;32m    994\u001b[0m         \u001b[1;32mtry\u001b[0m\u001b[1;33m:\u001b[0m\u001b[1;33m\u001b[0m\u001b[1;33m\u001b[0m\u001b[0m\n\u001b[1;32m--> 995\u001b[1;33m             \u001b[0mself\u001b[0m\u001b[1;33m.\u001b[0m\u001b[0m_sync\u001b[0m\u001b[1;33m(\u001b[0m\u001b[0mresponse\u001b[0m\u001b[1;33m)\u001b[0m\u001b[1;33m\u001b[0m\u001b[1;33m\u001b[0m\u001b[0m\n\u001b[0m\u001b[0;32m    996\u001b[0m         \u001b[1;32mexcept\u001b[0m \u001b[0mBrokenWireError\u001b[0m \u001b[1;32mas\u001b[0m \u001b[0merror\u001b[0m\u001b[1;33m:\u001b[0m\u001b[1;33m\u001b[0m\u001b[1;33m\u001b[0m\u001b[0m\n\u001b[0;32m    997\u001b[0m             \u001b[0mresult\u001b[0m\u001b[1;33m.\u001b[0m\u001b[0mtransaction\u001b[0m\u001b[1;33m.\u001b[0m\u001b[0mmark_broken\u001b[0m\u001b[1;33m(\u001b[0m\u001b[1;33m)\u001b[0m\u001b[1;33m\u001b[0m\u001b[1;33m\u001b[0m\u001b[0m\n",
      "\u001b[1;32m~\\anaconda3\\lib\\site-packages\\py2neo\\client\\bolt.py\u001b[0m in \u001b[0;36m_sync\u001b[1;34m(self, *responses)\u001b[0m\n\u001b[0;32m    797\u001b[0m         \u001b[0mself\u001b[0m\u001b[1;33m.\u001b[0m\u001b[0msend\u001b[0m\u001b[1;33m(\u001b[0m\u001b[1;33m)\u001b[0m\u001b[1;33m\u001b[0m\u001b[1;33m\u001b[0m\u001b[0m\n\u001b[0;32m    798\u001b[0m         \u001b[1;32mfor\u001b[0m \u001b[0mresponse\u001b[0m \u001b[1;32min\u001b[0m \u001b[0mresponses\u001b[0m\u001b[1;33m:\u001b[0m\u001b[1;33m\u001b[0m\u001b[1;33m\u001b[0m\u001b[0m\n\u001b[1;32m--> 799\u001b[1;33m             \u001b[0mself\u001b[0m\u001b[1;33m.\u001b[0m\u001b[0m_wait\u001b[0m\u001b[1;33m(\u001b[0m\u001b[0mresponse\u001b[0m\u001b[1;33m)\u001b[0m\u001b[1;33m\u001b[0m\u001b[1;33m\u001b[0m\u001b[0m\n\u001b[0m\u001b[0;32m    800\u001b[0m \u001b[1;33m\u001b[0m\u001b[0m\n\u001b[0;32m    801\u001b[0m     \u001b[1;32mdef\u001b[0m \u001b[0m_audit\u001b[0m\u001b[1;33m(\u001b[0m\u001b[0mself\u001b[0m\u001b[1;33m,\u001b[0m \u001b[0mtask\u001b[0m\u001b[1;33m)\u001b[0m\u001b[1;33m:\u001b[0m\u001b[1;33m\u001b[0m\u001b[1;33m\u001b[0m\u001b[0m\n",
      "\u001b[1;32m~\\anaconda3\\lib\\site-packages\\py2neo\\client\\bolt.py\u001b[0m in \u001b[0;36m_wait\u001b[1;34m(self, response)\u001b[0m\n\u001b[0;32m    792\u001b[0m         \"\"\"\n\u001b[0;32m    793\u001b[0m         \u001b[1;32mwhile\u001b[0m \u001b[1;32mnot\u001b[0m \u001b[0mresponse\u001b[0m\u001b[1;33m.\u001b[0m\u001b[0mfull\u001b[0m\u001b[1;33m(\u001b[0m\u001b[1;33m)\u001b[0m \u001b[1;32mand\u001b[0m \u001b[1;32mnot\u001b[0m \u001b[0mresponse\u001b[0m\u001b[1;33m.\u001b[0m\u001b[0mdone\u001b[0m\u001b[1;33m(\u001b[0m\u001b[1;33m)\u001b[0m\u001b[1;33m:\u001b[0m\u001b[1;33m\u001b[0m\u001b[1;33m\u001b[0m\u001b[0m\n\u001b[1;32m--> 794\u001b[1;33m             \u001b[0mself\u001b[0m\u001b[1;33m.\u001b[0m\u001b[0m_fetch\u001b[0m\u001b[1;33m(\u001b[0m\u001b[1;33m)\u001b[0m\u001b[1;33m\u001b[0m\u001b[1;33m\u001b[0m\u001b[0m\n\u001b[0m\u001b[0;32m    795\u001b[0m \u001b[1;33m\u001b[0m\u001b[0m\n\u001b[0;32m    796\u001b[0m     \u001b[1;32mdef\u001b[0m \u001b[0m_sync\u001b[0m\u001b[1;33m(\u001b[0m\u001b[0mself\u001b[0m\u001b[1;33m,\u001b[0m \u001b[1;33m*\u001b[0m\u001b[0mresponses\u001b[0m\u001b[1;33m)\u001b[0m\u001b[1;33m:\u001b[0m\u001b[1;33m\u001b[0m\u001b[1;33m\u001b[0m\u001b[0m\n",
      "\u001b[1;32m~\\anaconda3\\lib\\site-packages\\py2neo\\client\\bolt.py\u001b[0m in \u001b[0;36m_fetch\u001b[1;34m(self)\u001b[0m\n\u001b[0;32m    767\u001b[0m         \u001b[0mfailed\u001b[0m \u001b[0mstate\u001b[0m \u001b[0minto\u001b[0m \u001b[0man\u001b[0m \u001b[0mexception\u001b[0m\u001b[1;33m.\u001b[0m\u001b[1;33m\u001b[0m\u001b[1;33m\u001b[0m\u001b[0m\n\u001b[0;32m    768\u001b[0m         \"\"\"\n\u001b[1;32m--> 769\u001b[1;33m         \u001b[0mtag\u001b[0m\u001b[1;33m,\u001b[0m \u001b[0mfields\u001b[0m \u001b[1;33m=\u001b[0m \u001b[0mself\u001b[0m\u001b[1;33m.\u001b[0m\u001b[0mread_message\u001b[0m\u001b[1;33m(\u001b[0m\u001b[1;33m)\u001b[0m\u001b[1;33m\u001b[0m\u001b[1;33m\u001b[0m\u001b[0m\n\u001b[0m\u001b[0;32m    770\u001b[0m         \u001b[1;32mif\u001b[0m \u001b[0mtag\u001b[0m \u001b[1;33m==\u001b[0m \u001b[1;36m0x70\u001b[0m\u001b[1;33m:\u001b[0m\u001b[1;33m\u001b[0m\u001b[1;33m\u001b[0m\u001b[0m\n\u001b[0;32m    771\u001b[0m             \u001b[0mself\u001b[0m\u001b[1;33m.\u001b[0m\u001b[0m_responses\u001b[0m\u001b[1;33m.\u001b[0m\u001b[0mpopleft\u001b[0m\u001b[1;33m(\u001b[0m\u001b[1;33m)\u001b[0m\u001b[1;33m.\u001b[0m\u001b[0mset_success\u001b[0m\u001b[1;33m(\u001b[0m\u001b[1;33m**\u001b[0m\u001b[0mfields\u001b[0m\u001b[1;33m[\u001b[0m\u001b[1;36m0\u001b[0m\u001b[1;33m]\u001b[0m\u001b[1;33m)\u001b[0m\u001b[1;33m\u001b[0m\u001b[1;33m\u001b[0m\u001b[0m\n",
      "\u001b[1;32m~\\anaconda3\\lib\\site-packages\\py2neo\\client\\bolt.py\u001b[0m in \u001b[0;36mread_message\u001b[1;34m(self)\u001b[0m\n\u001b[0;32m    694\u001b[0m \u001b[1;33m\u001b[0m\u001b[0m\n\u001b[0;32m    695\u001b[0m     \u001b[1;32mdef\u001b[0m \u001b[0mread_message\u001b[0m\u001b[1;33m(\u001b[0m\u001b[0mself\u001b[0m\u001b[1;33m)\u001b[0m\u001b[1;33m:\u001b[0m\u001b[1;33m\u001b[0m\u001b[1;33m\u001b[0m\u001b[0m\n\u001b[1;32m--> 696\u001b[1;33m         \u001b[0mtag\u001b[0m\u001b[1;33m,\u001b[0m \u001b[0mfields\u001b[0m \u001b[1;33m=\u001b[0m \u001b[0mself\u001b[0m\u001b[1;33m.\u001b[0m\u001b[0m_reader\u001b[0m\u001b[1;33m.\u001b[0m\u001b[0mread_message\u001b[0m\u001b[1;33m(\u001b[0m\u001b[1;33m)\u001b[0m\u001b[1;33m\u001b[0m\u001b[1;33m\u001b[0m\u001b[0m\n\u001b[0m\u001b[0;32m    697\u001b[0m         \u001b[1;32mif\u001b[0m \u001b[0mtag\u001b[0m \u001b[1;33m==\u001b[0m \u001b[1;36m0x71\u001b[0m\u001b[1;33m:\u001b[0m\u001b[1;33m\u001b[0m\u001b[1;33m\u001b[0m\u001b[0m\n\u001b[0;32m    698\u001b[0m             \u001b[1;31m# If a RECORD is received, check for more records\u001b[0m\u001b[1;33m\u001b[0m\u001b[1;33m\u001b[0m\u001b[0m\n",
      "\u001b[1;32m~\\anaconda3\\lib\\site-packages\\py2neo\\client\\bolt.py\u001b[0m in \u001b[0;36mread_message\u001b[1;34m(self)\u001b[0m\n\u001b[0;32m    154\u001b[0m         \u001b[1;32mwhile\u001b[0m \u001b[1;32mTrue\u001b[0m\u001b[1;33m:\u001b[0m\u001b[1;33m\u001b[0m\u001b[1;33m\u001b[0m\u001b[0m\n\u001b[0;32m    155\u001b[0m             \u001b[1;32mtry\u001b[0m\u001b[1;33m:\u001b[0m\u001b[1;33m\u001b[0m\u001b[1;33m\u001b[0m\u001b[0m\n\u001b[1;32m--> 156\u001b[1;33m                 \u001b[0mhi\u001b[0m\u001b[1;33m,\u001b[0m \u001b[0mlo\u001b[0m \u001b[1;33m=\u001b[0m \u001b[0mself\u001b[0m\u001b[1;33m.\u001b[0m\u001b[0mwire\u001b[0m\u001b[1;33m.\u001b[0m\u001b[0mread\u001b[0m\u001b[1;33m(\u001b[0m\u001b[1;36m2\u001b[0m\u001b[1;33m)\u001b[0m\u001b[1;33m\u001b[0m\u001b[1;33m\u001b[0m\u001b[0m\n\u001b[0m\u001b[0;32m    157\u001b[0m             \u001b[1;32mexcept\u001b[0m \u001b[0mWireError\u001b[0m \u001b[1;32mas\u001b[0m \u001b[0merror\u001b[0m\u001b[1;33m:\u001b[0m\u001b[1;33m\u001b[0m\u001b[1;33m\u001b[0m\u001b[0m\n\u001b[0;32m    158\u001b[0m                 \u001b[0mraise_from\u001b[0m\u001b[1;33m(\u001b[0m\u001b[0mConnectionBroken\u001b[0m\u001b[1;33m(\u001b[0m\u001b[1;34m\"Failed to read message\"\u001b[0m\u001b[1;33m)\u001b[0m\u001b[1;33m,\u001b[0m \u001b[0merror\u001b[0m\u001b[1;33m)\u001b[0m\u001b[1;33m\u001b[0m\u001b[1;33m\u001b[0m\u001b[0m\n",
      "\u001b[1;32m~\\anaconda3\\lib\\site-packages\\py2neo\\wiring.py\u001b[0m in \u001b[0;36mread\u001b[1;34m(self, n)\u001b[0m\n\u001b[0;32m    115\u001b[0m             \u001b[0mrequested\u001b[0m \u001b[1;33m=\u001b[0m \u001b[0mmax\u001b[0m\u001b[1;33m(\u001b[0m\u001b[0mrequired\u001b[0m\u001b[1;33m,\u001b[0m \u001b[1;36m16384\u001b[0m\u001b[1;33m)\u001b[0m\u001b[1;33m\u001b[0m\u001b[1;33m\u001b[0m\u001b[0m\n\u001b[0;32m    116\u001b[0m             \u001b[1;32mtry\u001b[0m\u001b[1;33m:\u001b[0m\u001b[1;33m\u001b[0m\u001b[1;33m\u001b[0m\u001b[0m\n\u001b[1;32m--> 117\u001b[1;33m                 \u001b[0mreceived\u001b[0m \u001b[1;33m=\u001b[0m \u001b[0mself\u001b[0m\u001b[1;33m.\u001b[0m\u001b[0m__socket\u001b[0m\u001b[1;33m.\u001b[0m\u001b[0mrecv\u001b[0m\u001b[1;33m(\u001b[0m\u001b[0mrequested\u001b[0m\u001b[1;33m)\u001b[0m\u001b[1;33m\u001b[0m\u001b[1;33m\u001b[0m\u001b[0m\n\u001b[0m\u001b[0;32m    118\u001b[0m             \u001b[1;32mexcept\u001b[0m \u001b[1;33m(\u001b[0m\u001b[0mIOError\u001b[0m\u001b[1;33m,\u001b[0m \u001b[0mOSError\u001b[0m\u001b[1;33m)\u001b[0m\u001b[1;33m:\u001b[0m\u001b[1;33m\u001b[0m\u001b[1;33m\u001b[0m\u001b[0m\n\u001b[0;32m    119\u001b[0m                 \u001b[0mself\u001b[0m\u001b[1;33m.\u001b[0m\u001b[0m__mark_broken\u001b[0m\u001b[1;33m(\u001b[0m\u001b[1;34m\"Wire broken\"\u001b[0m\u001b[1;33m)\u001b[0m\u001b[1;33m\u001b[0m\u001b[1;33m\u001b[0m\u001b[0m\n",
      "\u001b[1;31mKeyboardInterrupt\u001b[0m: "
     ]
    }
   ],
   "source": [
    "FR_edges = pd.read_csv(r\"C:\\Users\\ferve\\Documents\\NoSQL\\Homeworks\\FR_edges.csv\")\n",
    "transaction_list = []\n",
    "transaction = \"\"\"UNWIND $json as data\n",
    "    MATCH (a:Streamer),(b:Streamer)\n",
    "    WHERE a.new_id = data.from AND b.new_id = data.to\n",
    "    MERGE (a)-[r:RELATION]->(b)\n",
    "    ON CREATE\n",
    "    SET r.n_collab = 1\n",
    "    ON MATCH\n",
    "    SET r.n_collab = r.n_collab + 1\n",
    "    \"\"\"\n",
    "it = 0\n",
    "for edge in tqdm.tqdm(FR_edges.groupby([\"from\"])):\n",
    "    related_ids = edge[1][\"to\"]\n",
    "    for combi in list(itertools.combinations(related_ids, 2)):\n",
    "        sh1 = combi[0]\n",
    "        sh2 = combi[1]\n",
    "        transaction_list.append({\"from\":sh1,\"to\":sh2})\n",
    "        it +=1\n",
    "        graph.run(transaction, json=transaction_list)\n",
    "        transaction_list = []\n",
    "graph.run(transaction, json=transaction_list)"
   ]
  },
  {
   "cell_type": "markdown",
   "id": "4bb782a3-16f4-4243-a6f0-a105bb1d6d9a",
   "metadata": {},
   "source": [
    "### 1) Give the IDs of the top 10 streamers that have atleast one collaboration."
   ]
  },
  {
   "cell_type": "code",
   "execution_count": 23,
   "id": "3784a859-2664-463b-aa14-46bf3268ae7a",
   "metadata": {},
   "outputs": [
    {
     "data": {
      "text/plain": [
       "[Node('Streamer', days=1479, id_=71852533, mature=False, new_id=3459, partner=True, views=108432615),\n",
       " Node('Streamer', days=1311, id_=84934385, mature=False, new_id=6420, partner=True, views=62713570),\n",
       " Node('Streamer', days=2613, id_=24147592, mature=False, new_id=5511, partner=True, views=44534929),\n",
       " Node('Streamer', days=2027, id_=41719107, mature=True, new_id=2161, partner=True, views=44374644),\n",
       " Node('Streamer', days=386, id_=174955366, mature=False, new_id=2799, partner=True, views=43059742),\n",
       " Node('Streamer', days=610, id_=147337432, mature=False, new_id=5968, partner=True, views=42801507),\n",
       " Node('Streamer', days=2075, id_=40063341, mature=False, new_id=1751, partner=True, views=38404078),\n",
       " Node('Streamer', days=660, id_=142506321, mature=False, new_id=5804, partner=True, views=37754841),\n",
       " Node('Streamer', days=2384, id_=29478753, mature=False, new_id=1552, partner=True, views=34295755),\n",
       " Node('Streamer', days=2460, id_=27528066, mature=False, new_id=5844, partner=True, views=29998029)]"
      ]
     },
     "execution_count": 23,
     "metadata": {},
     "output_type": "execute_result"
    }
   ],
   "source": [
    "\n",
    "query = \"\"\"MATCH (s:Streamer)\n",
    "WHERE exists(s.id_)\n",
    "RETURN s\n",
    "ORDER BY s.views DESC\n",
    "LIMIT 10\"\"\"\n",
    "data = graph.run(query).to_data_frame()\n",
    "list(data[\"s\"])"
   ]
  },
  {
   "cell_type": "markdown",
   "id": "48e82837-d438-4d46-9160-e0ea40535a37",
   "metadata": {},
   "source": [
    "### 2) Create a density of node degrees. Do you observe a power scale law ? What does it mean ?"
   ]
  },
  {
   "cell_type": "code",
   "execution_count": 20,
   "id": "d3a20095-5177-4059-87b9-55ffe3462829",
   "metadata": {},
   "outputs": [
    {
     "name": "stderr",
     "output_type": "stream",
     "text": [
      "C:\\Users\\ferve\\anaconda3\\lib\\site-packages\\seaborn\\distributions.py:2619: FutureWarning: `distplot` is a deprecated function and will be removed in a future version. Please adapt your code to use either `displot` (a figure-level function with similar flexibility) or `kdeplot` (an axes-level function for kernel density plots).\n",
      "  warnings.warn(msg, FutureWarning)\n"
     ]
    },
    {
     "data": {
      "image/png": "[encoded data removed]",
      "text/plain": [
       "<Figure size 432x288 with 1 Axes>"
      ]
     },
     "metadata": {
      "needs_background": "light"
     },
     "output_type": "display_data"
    }
   ],
   "source": [
    "\n",
    "import seaborn as sns\n",
    "query = \"\"\"\n",
    "MATCH (p)\n",
    "WITH p, size((p)-[:RELATION]->()) as degree\n",
    "RETURN degree;\n",
    "\"\"\"\n",
    "data = graph.run(query).to_data_frame()\n",
    "ax = sns.distplot(data[\"degree\"],hist=False)\n",
    "ax.title.set_text(\"Density of degrees\")\n"
   ]
  },
  {
   "cell_type": "markdown",
   "id": "e9e52fae-4330-41ce-ac30-745aa8de9af5",
   "metadata": {},
   "source": [
    "##### On observe une loi d'échelle de puissance au point zéro avec y=1/(d)exposannt(alpha) comme répartition de la distribution."
   ]
  },
  {
   "cell_type": "markdown",
   "id": "e349497d-0f2c-4b63-a139-262ea6e0f817",
   "metadata": {},
   "source": [
    "### 3) How many streamers has the tag \"mature\" ?"
   ]
  },
  {
   "cell_type": "code",
   "execution_count": 19,
   "id": "fcc22919-643b-4720-99cb-bc6af369a576",
   "metadata": {},
   "outputs": [
    {
     "data": {
      "text/html": [
       "<table><tr><th>nombre</th></tr><tr><td style=\"text-align:right\">2414</td></tr></table>"
      ],
      "text/plain": [
       " nombre \n",
       "--------\n",
       "   2414 "
      ]
     },
     "execution_count": 19,
     "metadata": {},
     "output_type": "execute_result"
    }
   ],
   "source": [
    "\n",
    "query = \"\"\"\n",
    "MATCH (s:Streamer)\n",
    "WHERE s.mature=true\n",
    "with count(s) as nombre\n",
    "RETURN nombre\n",
    "\"\"\"\n",
    "graph.run(query)\n"
   ]
  },
  {
   "cell_type": "markdown",
   "id": "67abe73d-2b3e-4606-bf07-8d51bf874771",
   "metadata": {},
   "source": [
    "##### On compte 2414 tag \"mature\""
   ]
  },
  {
   "cell_type": "markdown",
   "id": "81e6caf3-fa9a-4ec1-91c8-6a965bcff368",
   "metadata": {},
   "source": [
    "### 4) Is the collaboration correlated to the \"mature\" tag ?"
   ]
  },
  {
   "cell_type": "code",
   "execution_count": 18,
   "id": "0b94f0cc-78aa-45e3-9fb1-a6535da781df",
   "metadata": {},
   "outputs": [
    {
     "data": {
      "text/html": [
       "<table><tr><th>p.mature</th></tr><tr><td style=\"text-align:left\">true</td></tr><tr><td style=\"text-align:left\">true</td></tr><tr><td style=\"text-align:left\">true</td></tr></table>"
      ],
      "text/plain": [
       " p.mature \n",
       "----------\n",
       " true     \n",
       " true     \n",
       " true     "
      ]
     },
     "execution_count": 18,
     "metadata": {},
     "output_type": "execute_result"
    }
   ],
   "source": [
    "query = \"\"\"\n",
    "MATCH (p:Streamer)-[r:RELATION]->()\n",
    "where p.mature = TRUE\n",
    "RETURN p.mature\n",
    "\"\"\"\n",
    "graph.run(query)\n"
   ]
  },
  {
   "cell_type": "markdown",
   "id": "633870d5-5195-4d7f-98eb-7a3b878d980a",
   "metadata": {},
   "source": [
    "##### Oui la collaboration est est correlée au tag \"mature\""
   ]
  },
  {
   "cell_type": "markdown",
   "id": "fc37e81f-c489-43d1-b5e0-7a33742614f9",
   "metadata": {},
   "source": [
    "### 5) Do partners collaborate more than non partners ?"
   ]
  },
  {
   "cell_type": "code",
   "execution_count": 17,
   "id": "3c35cfa1-2ac6-428d-a012-326289047729",
   "metadata": {},
   "outputs": [
    {
     "data": {
      "text/html": [
       "<table><tr><th>nombre</th></tr><tr><td style=\"text-align:right\">5648</td></tr></table>"
      ],
      "text/plain": [
       " nombre \n",
       "--------\n",
       "   5648 "
      ]
     },
     "execution_count": 17,
     "metadata": {},
     "output_type": "execute_result"
    }
   ],
   "source": [
    "\n",
    "#On compte d'abord le nombre de partners qui collaborent\n",
    "query = \"\"\"\n",
    "MATCH (s:Streamer)-[r:RELATION]->()\n",
    "WHERE s.partner = True\n",
    "with count(s) as nombre\n",
    "return nombre\n",
    "\"\"\"\n",
    "graph.run(query)\n",
    "## Il y a 5648 partners qui collaborent\n"
   ]
  },
  {
   "cell_type": "code",
   "execution_count": 16,
   "id": "7c917dd7-612a-48ef-8349-a12a1db68d73",
   "metadata": {},
   "outputs": [
    {
     "data": {
      "text/html": [
       "<table><tr><th>nombre</th></tr><tr><td style=\"text-align:right\">7591</td></tr></table>"
      ],
      "text/plain": [
       " nombre \n",
       "--------\n",
       "   7591 "
      ]
     },
     "execution_count": 16,
     "metadata": {},
     "output_type": "execute_result"
    }
   ],
   "source": [
    "#les partners qui ne collaborent pas :\n",
    "query1 = \"\"\"\n",
    "MATCH (s:Streamer)-[r:RELATION]->()\n",
    "WHERE s.partner = false\n",
    "with count(s) as nombre\n",
    "return nombre\n",
    "\"\"\"\n",
    "graph.run(query1)\n",
    "\n",
    "#les personnes qui ne collaborent pas sont 99247"
   ]
  },
  {
   "cell_type": "markdown",
   "id": "4a344396-5726-4dbd-9f90-cf1a723ad563",
   "metadata": {},
   "source": [
    "##### Non, les partners qui ne collaborent pas sont supérieurs à ceux qui collaborent. "
   ]
  }
 ],
 "metadata": {
  "kernelspec": {
   "display_name": "Python 3 (ipykernel)",
   "language": "python",
   "name": "python3"
  },
  "language_info": {
   "codemirror_mode": {
    "name": "ipython",
    "version": 3
   },
   "file_extension": ".py",
   "mimetype": "text/x-python",
   "name": "python",
   "nbconvert_exporter": "python",
   "pygments_lexer": "ipython3",
   "version": "3.9.7"
  }
 },
 "nbformat": 4,
 "nbformat_minor": 5
}
