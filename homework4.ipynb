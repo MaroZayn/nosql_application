{
 "cells": [
  {
   "cell_type": "markdown",
   "id": "303104ed-ef71-4c5b-89c2-e7f8a02d0642",
   "metadata": {},
   "source": [
    "# BATINA AGASA FERVENT\n",
    "## Homework 4\n"
   ]
  },
  {
   "cell_type": "code",
   "execution_count": 4,
   "id": "1509befb-25ab-4e3e-8722-063f0b27f003",
   "metadata": {},
   "outputs": [
    {
     "data": {
      "text/html": [
       "<table><tr><th>play</th></tr><tr><td style=\"text-align:left\">(_4:Person {born: 1960, name: &#039;Hugo Weaving&#039;})</td></tr><tr><td style=\"text-align:left\">(_3:Person {born: 1961, name: &#039;Laurence Fishburne&#039;})</td></tr><tr><td style=\"text-align:left\">(_2:Person {born: 1967, name: &#039;Carrie-Anne Moss&#039;})</td></tr></table>"
      ],
      "text/plain": [
       " play                                                 \n",
       "------------------------------------------------------\n",
       " (_4:Person {born: 1960, name: 'Hugo Weaving'})       \n",
       " (_3:Person {born: 1961, name: 'Laurence Fishburne'}) \n",
       " (_2:Person {born: 1967, name: 'Carrie-Anne Moss'})   "
      ]
     },
     "execution_count": 4,
     "metadata": {},
     "output_type": "execute_result"
    }
   ],
   "source": [
    "#1)How many actors played in more than 2 movie ? Get their names and year they were born.\n",
    "import py2neo\n",
    "graph = py2neo.Graph(\"bolt://localhost:7687\", auth=(\"neo4j\", \"password_tuts\"),name=\"neo4j\")\n",
    "query = \"\"\"\n",
    "MATCH (m:Movie)<-[:ACTED_IN]-(play:Person)\n",
    "with play, count(m) as film where film > 2\n",
    "return play\n",
    "\"\"\"\n",
    "graph.run(query)\n",
    "# Les acteurs qui ont joué dans deux films et leurs dates de naissance:"
   ]
  },
  {
   "cell_type": "code",
   "execution_count": 5,
   "id": "012e29a4-a65d-4c0c-8947-a1ddf9f089e7",
   "metadata": {},
   "outputs": [
    {
     "data": {
      "text/html": [
       "<table><tr><th>nombre</th></tr><tr><td style=\"text-align:right\">24</td></tr></table>"
      ],
      "text/plain": [
       " nombre \n",
       "--------\n",
       "     24 "
      ]
     },
     "execution_count": 5,
     "metadata": {},
     "output_type": "execute_result"
    }
   ],
   "source": [
    "#2)In how many movies did Tom hanks play ?\n",
    "query = \"\"\"\n",
    "MATCH (m:Movie)<-[:ACTED_IN]-(play:Person{name:\"Tom Hanks\"})\n",
    "with count(play.name) as nombre\n",
    "return nombre\n",
    "\"\"\"\n",
    "graph.run(query)\n",
    "# Tom Hanks a joué dans 24 films"
   ]
  },
  {
   "cell_type": "code",
   "execution_count": 7,
   "id": "5ef684a9-dc15-4239-a183-237dba3467c5",
   "metadata": {},
   "outputs": [
    {
     "data": {
      "text/html": [
       "<table><tr><th>avg(film)</th></tr><tr><td style=\"text-align:right\">1.6862745098039214</td></tr></table>"
      ],
      "text/plain": [
       "          avg(film) \n",
       "--------------------\n",
       " 1.6862745098039214 "
      ]
     },
     "execution_count": 7,
     "metadata": {},
     "output_type": "execute_result"
    }
   ],
   "source": [
    "#3) In average in how many movies do actors play in ?\n",
    "query = \"\"\"\n",
    "MATCH (m:Movie)<-[:ACTED_IN]-(play:Person)\n",
    "with play, count(m) as film\n",
    "return avg(film)\n",
    "\"\"\"\n",
    "graph.run(query)\n",
    "# En moyenne, les acteurs jouent dans 1.6862745098039214 films"
   ]
  },
  {
   "cell_type": "code",
   "execution_count": 8,
   "id": "628860d9-4cdf-4e41-ad71-a8fb44455b23",
   "metadata": {},
   "outputs": [
    {
     "data": {
      "text/html": [
       "<table><tr><th>avg(nombre)</th></tr><tr><td style=\"text-align:right\">4.526315789473684</td></tr></table>"
      ],
      "text/plain": [
       "       avg(nombre) \n",
       "-------------------\n",
       " 4.526315789473684 "
      ]
     },
     "execution_count": 8,
     "metadata": {},
     "output_type": "execute_result"
    }
   ],
   "source": [
    "#4) In average how many actors are there in a movie ?\n",
    "query = \"\"\"\n",
    "MATCH (m:Movie)<-[:ACTED_IN]-(play:Person)\n",
    "with m, count(play.name) as nombre\n",
    "return avg(nombre)\n",
    "\"\"\"\n",
    "graph.run(query)\n",
    "# En moyenne, il y a 4.526315789473684 acteurs par film"
   ]
  },
  {
   "cell_type": "code",
   "execution_count": 9,
   "id": "69979058-2f9b-48b0-b912-2e9fc3e3626d",
   "metadata": {},
   "outputs": [
    {
     "data": {
      "text/html": [
       "<table><tr><th>avg(nombre)</th></tr><tr><td style=\"text-align:right\">1.2500000000000002</td></tr></table>"
      ],
      "text/plain": [
       "        avg(nombre) \n",
       "--------------------\n",
       " 1.2500000000000002 "
      ]
     },
     "execution_count": 9,
     "metadata": {},
     "output_type": "execute_result"
    }
   ],
   "source": [
    "#5) In average how many writers is needed to write a movie ?\n",
    "query= \"\"\"\n",
    "MATCH (P:Person)-[:WROTE]->(m:Movie)\n",
    "with m,count(P.name) as nombre\n",
    "RETURN avg(nombre)\n",
    "\"\"\"\n",
    "graph.run(query)\n",
    "# En moyenne, il y a 1.2500000000000002 écrivains pour écrire un film"
   ]
  },
  {
   "cell_type": "code",
   "execution_count": 28,
   "id": "30d70649-a3aa-48c3-8c2f-cc459913701a",
   "metadata": {},
   "outputs": [
    {
     "data": {
      "text/html": [
       "<table><tr><th>nombre</th></tr><tr><td style=\"text-align:right\">0</td></tr></table>"
      ],
      "text/plain": [
       " nombre \n",
       "--------\n",
       "      0 "
      ]
     },
     "execution_count": 28,
     "metadata": {},
     "output_type": "execute_result"
    }
   ],
   "source": [
    "# 6) What is the proportion of writers that also directed the movie ?\n",
    "# On a d'abord le nombre d'écrivain qui sont aussi directeur :\n",
    "query1 =\"\"\"\n",
    "MATCH (m:Movie)<-[:WROTE]-(d:DIRECTED)\n",
    "with count(d.name) as nombre\n",
    "return nombre\n",
    "\"\"\"\n",
    "graph.run(query1)\n",
    "# Il n'y a pas d'écrivains qui est aussi directeur"
   ]
  },
  {
   "cell_type": "code",
   "execution_count": 29,
   "id": "c61fea8d-1c7b-4d2d-aabc-f74a9e8ae133",
   "metadata": {},
   "outputs": [
    {
     "name": "stderr",
     "output_type": "stream",
     "text": [
      "C:\\Users\\ferve\\anaconda3\\lib\\site-packages\\seaborn\\distributions.py:2619: FutureWarning: `distplot` is a deprecated function and will be removed in a future version. Please adapt your code to use either `displot` (a figure-level function with similar flexibility) or `histplot` (an axes-level function for histograms).\n",
      "  warnings.warn(msg, FutureWarning)\n"
     ]
    },
    {
     "data": {
      "text/plain": [
       "<AxesSubplot:xlabel='year.released', ylabel='Density'>"
      ]
     },
     "execution_count": 29,
     "metadata": {},
     "output_type": "execute_result"
    },
    {
     "data": {
      "image/png": "[encoded data removed]",
      "text/plain": [
       "<Figure size 432x288 with 1 Axes>"
      ]
     },
     "metadata": {
      "needs_background": "light"
     },
     "output_type": "display_data"
    }
   ],
   "source": [
    "# 7) Do an histogram of the year of release for the movies.\n",
    "import seaborn as sns\n",
    "%matplotlib inline\n",
    "query =\"\"\" Match (year:Movie) return year.released \"\"\"\n",
    "data =graph.run(query).to_data_frame()\n",
    "sns.distplot(data['year.released'])"
   ]
  },
  {
   "cell_type": "code",
   "execution_count": 44,
   "id": "35002114-826b-4171-beaf-dc6542b41ac6",
   "metadata": {},
   "outputs": [
    {
     "data": {
      "text/html": [
       "<table><tr><th>play.name</th><th>nombre_films</th></tr><tr><td style=\"text-align:left\">Tom Hanks</td><td style=\"text-align:right\">24</td></tr><tr><td style=\"text-align:left\">Keanu Reeves</td><td style=\"text-align:right\">14</td></tr><tr><td style=\"text-align:left\">Meg Ryan</td><td style=\"text-align:right\">10</td></tr></table>"
      ],
      "text/plain": [
       " play.name    | nombre_films \n",
       "--------------|--------------\n",
       " Tom Hanks    |           24 \n",
       " Keanu Reeves |           14 \n",
       " Meg Ryan     |           10 "
      ]
     },
     "execution_count": 44,
     "metadata": {},
     "output_type": "execute_result"
    }
   ],
   "source": [
    "# 8) Who are the 10 actors with the most movie played in\n",
    "query = \"\"\"\n",
    "MATCH (m:Movie)<-[:ACTED_IN]-(play:Person)\n",
    "return play.name ,count(m) as nombre_films\n",
    "Order by nombre_films desc\n",
    "Limit 10\n",
    "\"\"\"\n",
    "graph.run(query)"
   ]
  },
  {
   "cell_type": "code",
   "execution_count": 45,
   "id": "1e88dbd3-1498-458d-857d-83440bb34f1f",
   "metadata": {},
   "outputs": [
    {
     "data": {
      "text/html": [
       "(No data)"
      ],
      "text/plain": [
       "(No data)"
      ]
     },
     "execution_count": 45,
     "metadata": {},
     "output_type": "execute_result"
    }
   ],
   "source": [
    "# 9) Delete every movie made by a director of your choosing\n",
    "query=\"\"\"\n",
    "MATCH (p:Person{name:\"Jessica Thompson\"})-[:DIRECTED]->(m:Movie)\n",
    "DETACH DELETE m\n",
    "\"\"\"\n",
    "graph.run(query)\n"
   ]
  },
  {
   "cell_type": "code",
   "execution_count": 82,
   "id": "c5da2727-1da0-4f38-9a02-55fd10d546d4",
   "metadata": {},
   "outputs": [
    {
     "data": {
      "text/html": [
       "<div>\n",
       "<style scoped>\n",
       "    .dataframe tbody tr th:only-of-type {\n",
       "        vertical-align: middle;\n",
       "    }\n",
       "\n",
       "    .dataframe tbody tr th {\n",
       "        vertical-align: top;\n",
       "    }\n",
       "\n",
       "    .dataframe thead th {\n",
       "        text-align: right;\n",
       "    }\n",
       "</style>\n",
       "<table border=\"1\" class=\"dataframe\">\n",
       "  <thead>\n",
       "    <tr style=\"text-align: right;\">\n",
       "      <th></th>\n",
       "      <th>Str</th>\n",
       "      <th>m.released</th>\n",
       "    </tr>\n",
       "  </thead>\n",
       "  <tbody>\n",
       "    <tr>\n",
       "      <th>count</th>\n",
       "      <td>16.000000</td>\n",
       "      <td>16.000000</td>\n",
       "    </tr>\n",
       "    <tr>\n",
       "      <th>mean</th>\n",
       "      <td>10.125000</td>\n",
       "      <td>1997.562500</td>\n",
       "    </tr>\n",
       "    <tr>\n",
       "      <th>std</th>\n",
       "      <td>8.777813</td>\n",
       "      <td>5.726765</td>\n",
       "    </tr>\n",
       "    <tr>\n",
       "      <th>min</th>\n",
       "      <td>2.000000</td>\n",
       "      <td>1990.000000</td>\n",
       "    </tr>\n",
       "    <tr>\n",
       "      <th>25%</th>\n",
       "      <td>4.000000</td>\n",
       "      <td>1994.500000</td>\n",
       "    </tr>\n",
       "    <tr>\n",
       "      <th>50%</th>\n",
       "      <td>6.000000</td>\n",
       "      <td>1998.000000</td>\n",
       "    </tr>\n",
       "    <tr>\n",
       "      <th>75%</th>\n",
       "      <td>16.000000</td>\n",
       "      <td>1999.000000</td>\n",
       "    </tr>\n",
       "    <tr>\n",
       "      <th>max</th>\n",
       "      <td>28.000000</td>\n",
       "      <td>2012.000000</td>\n",
       "    </tr>\n",
       "  </tbody>\n",
       "</table>\n",
       "</div>"
      ],
      "text/plain": [
       "             Str   m.released\n",
       "count  16.000000    16.000000\n",
       "mean   10.125000  1997.562500\n",
       "std     8.777813     5.726765\n",
       "min     2.000000  1990.000000\n",
       "25%     4.000000  1994.500000\n",
       "50%     6.000000  1998.000000\n",
       "75%    16.000000  1999.000000\n",
       "max    28.000000  2012.000000"
      ]
     },
     "execution_count": 82,
     "metadata": {},
     "output_type": "execute_result"
    }
   ],
   "source": [
    "# 10) Give some statistics that you find interesting.\n",
    "\n",
    "query1 = \"\"\"\n",
    "MATCH (tom:Person {name:\"Tom Hanks\"})-[:ACTED_IN]->(m)<-[:ACTED_IN]-(coActors),\n",
    "(coActors)-[:ACTED_IN]->(m2)<-[:ACTED_IN]-(cocoActors) , (m:Movie)\n",
    "WHERE NOT (tom)-[:ACTED_IN]->()<-[:ACTED_IN]-(cocoActors) AND tom <>cocoActors\n",
    "RETURN coActors.name AS Recommended, count(*) AS Str, m.released\n",
    "ORDER BY Str desc\n",
    "\"\"\"\n",
    "data = graph.run(query1).to_data_frame()\n",
    "data.describe()\n",
    "\n",
    "#En moyenne, 10 personnes ne collaborent pas avec Tom Hanks après qu'on les ait recommandées"
   ]
  },
  {
   "cell_type": "code",
   "execution_count": null,
   "id": "6f6003d5-760d-4d5f-9c8d-8debcd655c05",
   "metadata": {},
   "outputs": [],
   "source": []
  }
 ],
 "metadata": {
  "kernelspec": {
   "display_name": "Python 3 (ipykernel)",
   "language": "python",
   "name": "python3"
  },
  "language_info": {
   "codemirror_mode": {
    "name": "ipython",
    "version": 3
   },
   "file_extension": ".py",
   "mimetype": "text/x-python",
   "name": "python",
   "nbconvert_exporter": "python",
   "pygments_lexer": "ipython3",
   "version": "3.9.7"
  }
 },
 "nbformat": 4,
 "nbformat_minor": 5
}
