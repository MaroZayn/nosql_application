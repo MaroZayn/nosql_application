{
  "cells": [
    {
      "cell_type": "markdown",
      "source": [
        "Khalid NASER\n"
      ],
      "metadata": {
        "id": "WvcTG6_uwEFJ"
      },
      "id": "WvcTG6_uwEFJ"
    },
    {
      "cell_type": "code",
      "source": [
        "import py2neo\n",
        "graph = py2neo.Graph(\"bolt://localhost:7687\", auth=(\"neo4j\", \"password_tuts\"), name=\"movie\")"
      ],
      "metadata": {
        "id": "HqXI_feVupDK"
      },
      "id": "HqXI_feVupDK",
      "execution_count": null,
      "outputs": []
    },
    {
      "cell_type": "code",
      "execution_count": null,
      "id": "1509befb-25ab-4e3e-8722-063f0b27f003",
      "metadata": {
        "id": "1509befb-25ab-4e3e-8722-063f0b27f003",
        "outputId": "5e8df253-de96-4a46-f79d-2378f40fc8a4"
      },
      "outputs": [
        {
          "data": {
            "text/html": [
              "<table><tr><th>play</th></tr><tr><td style=\"text-align:left\">(_4:Person {born: 1960, name: &#039;Hugo Weaving&#039;})</td></tr><tr><td style=\"text-align:left\">(_3:Person {born: 1961, name: &#039;Laurence Fishburne&#039;})</td></tr><tr><td style=\"text-align:left\">(_2:Person {born: 1967, name: &#039;Carrie-Anne Moss&#039;})</td></tr></table>"
            ],
            "text/plain": [
              " play                                                 \n",
              "------------------------------------------------------\n",
              " (_4:Person {born: 1960, name: 'Hugo Weaving'})       \n",
              " (_3:Person {born: 1961, name: 'Laurence Fishburne'}) \n",
              " (_2:Person {born: 1967, name: 'Carrie-Anne Moss'})   "
            ]
          },
          "execution_count": 4,
          "metadata": {},
          "output_type": "execute_result"
        }
      ],
      "source": [
        "#1)How many actors played in more than 2 movie ? Get their names and year they were born.\n",
        "import py2neo\n",
        "graph = py2neo.Graph(\"bolt://localhost:7687\", auth=(\"neo4j\", \"password_tuts\"),name=\"neo4j\")\n",
        "query = \"\"\"\n",
        "MATCH (m:Movie)<-[:ACTED_IN]-(play:Person)\n",
        "with play, count(m) as film where film > 2\n",
        "return play\n",
        "\"\"\"\n",
        "graph.run(query)\n"
      ]
    },
    {
      "cell_type": "code",
      "source": [
        "import py2neo\n",
        "graph = py2neo.Graph(\"bolt://localhost:7687\", auth=(\"neo4j\", \"password_tuts\"), name=\"movie\")"
      ],
      "metadata": {
        "id": "geBv7IpLsttZ"
      },
      "id": "geBv7IpLsttZ",
      "execution_count": null,
      "outputs": []
    },
    {
      "cell_type": "code",
      "execution_count": null,
      "id": "012e29a4-a65d-4c0c-8947-a1ddf9f089e7",
      "metadata": {
        "id": "012e29a4-a65d-4c0c-8947-a1ddf9f089e7",
        "outputId": "3d6d3ca0-c769-4abe-ea43-46eb11fc1bff"
      },
      "outputs": [
        {
          "data": {
            "text/html": [
              "<table><tr><th>nombre</th></tr><tr><td style=\"text-align:right\">24</td></tr></table>"
            ],
            "text/plain": [
              " nombre \n",
              "--------\n",
              "     24 "
            ]
          },
          "execution_count": 5,
          "metadata": {},
          "output_type": "execute_result"
        }
      ],
      "source": [
        "#2)In how many movies did Tom hanks play ?\n",
        "query = \"\"\"\n",
        "MATCH (m:Movie)<-[:ACTED_IN]-(play:Person{name:\"Tom Hanks\"})\n",
        "with count(play.name) as nombre\n",
        "return nombre\n",
        "\"\"\"\n",
        "graph.run(query)\n",
        "# Tom Hanks did play in 24 films"
      ]
    },
    {
      "cell_type": "code",
      "execution_count": null,
      "id": "5ef684a9-dc15-4239-a183-237dba3467c5",
      "metadata": {
        "id": "5ef684a9-dc15-4239-a183-237dba3467c5",
        "outputId": "e5d0081d-afab-4d5f-e9b2-f10040d09f9e"
      },
      "outputs": [
        {
          "data": {
            "text/html": [
              "<table><tr><th>avg(film)</th></tr><tr><td style=\"text-align:right\">1.6862745098039214</td></tr></table>"
            ],
            "text/plain": [
              "          avg(film) \n",
              "--------------------\n",
              " 1.6862745098039214 "
            ]
          },
          "execution_count": 7,
          "metadata": {},
          "output_type": "execute_result"
        }
      ],
      "source": [
        "#3) In average in how many movies do actors play in ?\n",
        "query = \"\"\"\n",
        "MATCH (m:Movie)<-[:ACTED_IN]-(play:Person)\n",
        "with play, count(m) as film\n",
        "return avg(film)\n",
        "\"\"\"\n",
        "graph.run(query)\n",
        "# in average, actors played 1.6862745098039214 movies"
      ]
    },
    {
      "cell_type": "code",
      "execution_count": null,
      "id": "628860d9-4cdf-4e41-ad71-a8fb44455b23",
      "metadata": {
        "id": "628860d9-4cdf-4e41-ad71-a8fb44455b23",
        "outputId": "e6f97545-d43c-41c3-eaa6-b770570d7381"
      },
      "outputs": [
        {
          "data": {
            "text/html": [
              "<table><tr><th>avg(nombre)</th></tr><tr><td style=\"text-align:right\">4.526315789473684</td></tr></table>"
            ],
            "text/plain": [
              "       avg(nombre) \n",
              "-------------------\n",
              " 4.526315789473684 "
            ]
          },
          "execution_count": 8,
          "metadata": {},
          "output_type": "execute_result"
        }
      ],
      "source": [
        "#4) In average how many actors are there in a movie ?\n",
        "query = \"\"\"\n",
        "MATCH (m:Movie)<-[:ACTED_IN]-(play:Person)\n",
        "with m, count(play.name) as nombre\n",
        "return avg(nombre)\n",
        "\"\"\"\n",
        "graph.run(query)\n",
        "# In average,there are 4.526315789473684 actor per movie"
      ]
    },
    {
      "cell_type": "code",
      "execution_count": null,
      "id": "69979058-2f9b-48b0-b912-2e9fc3e3626d",
      "metadata": {
        "id": "69979058-2f9b-48b0-b912-2e9fc3e3626d",
        "outputId": "19bd0b3b-3773-4929-8039-6fa955e7130b"
      },
      "outputs": [
        {
          "data": {
            "text/html": [
              "<table><tr><th>avg(nombre)</th></tr><tr><td style=\"text-align:right\">1.2500000000000002</td></tr></table>"
            ],
            "text/plain": [
              "        avg(nombre) \n",
              "--------------------\n",
              " 1.2500000000000002 "
            ]
          },
          "execution_count": 9,
          "metadata": {},
          "output_type": "execute_result"
        }
      ],
      "source": [
        "#5) In average how many writers is needed to write a movie ?\n",
        "query= \"\"\"\n",
        "MATCH (P:Person)-[:WROTE]->(m:Movie)\n",
        "with m,count(P.name) as nombre\n",
        "RETURN avg(nombre)\n",
        "\"\"\"\n",
        "graph.run(query)\n",
        "# In average,there are 1.2500000000000002 writer to write a movie"
      ]
    },
    {
      "cell_type": "code",
      "execution_count": null,
      "id": "30d70649-a3aa-48c3-8c2f-cc459913701a",
      "metadata": {
        "id": "30d70649-a3aa-48c3-8c2f-cc459913701a",
        "outputId": "d7f86f24-3ff2-46f9-a8c0-abd2cef904e3"
      },
      "outputs": [
        {
          "data": {
            "text/html": [
              "<table><tr><th>nombre</th></tr><tr><td style=\"text-align:right\">0</td></tr></table>"
            ],
            "text/plain": [
              " nombre \n",
              "--------\n",
              "      0 "
            ]
          },
          "execution_count": 28,
          "metadata": {},
          "output_type": "execute_result"
        }
      ],
      "source": [
        "# 6) What is the proportion of writers that also directed the movie ?\n",
        "# On a d'abord le nombre d'écrivain qui sont aussi directeur :\n",
        "query1 =\"\"\"\n",
        "MATCH (m:Movie)<-[:WROTE]-(d:DIRECTED)\n",
        "with count(d.name) as nombre\n",
        "return nombre\n",
        "\"\"\"\n",
        "graph.run(query1)\n"
      ]
    },
    {
      "cell_type": "code",
      "execution_count": null,
      "id": "c61fea8d-1c7b-4d2d-aabc-f74a9e8ae133",
      "metadata": {
        "id": "c61fea8d-1c7b-4d2d-aabc-f74a9e8ae133"
      },
      "outputs": [],
      "source": [
        "# 7) Do an histogram of the year of release for the movies.\n",
        "import seaborn as sns\n",
        "%matplotlib inline\n",
        "query =\"\"\" Match (year:Movie) return year.released \"\"\"\n",
        "data =graph.run(query).to_data_frame()\n",
        "sns.distplot(data['year.released'])"
      ]
    },
    {
      "cell_type": "code",
      "execution_count": null,
      "id": "35002114-826b-4171-beaf-dc6542b41ac6",
      "metadata": {
        "id": "35002114-826b-4171-beaf-dc6542b41ac6",
        "outputId": "994386a3-4358-4e80-ab17-57319340e045"
      },
      "outputs": [
        {
          "data": {
            "text/html": [
              "<table><tr><th>play.name</th><th>nombre_films</th></tr><tr><td style=\"text-align:left\">Tom Hanks</td><td style=\"text-align:right\">24</td></tr><tr><td style=\"text-align:left\">Keanu Reeves</td><td style=\"text-align:right\">14</td></tr><tr><td style=\"text-align:left\">Meg Ryan</td><td style=\"text-align:right\">10</td></tr></table>"
            ],
            "text/plain": [
              " play.name    | nombre_films \n",
              "--------------|--------------\n",
              " Tom Hanks    |           24 \n",
              " Keanu Reeves |           14 \n",
              " Meg Ryan     |           10 "
            ]
          },
          "execution_count": 44,
          "metadata": {},
          "output_type": "execute_result"
        }
      ],
      "source": [
        "# 8) Who are the 10 actors with the most movie played in\n",
        "query = \"\"\"\n",
        "MATCH (m:Movie)<-[:ACTED_IN]-(play:Person)\n",
        "return play.name ,count(m) as nombre_films\n",
        "Order by nombre_films desc\n",
        "Limit 10\n",
        "\"\"\"\n",
        "graph.run(query)"
      ]
    },
    {
      "cell_type": "code",
      "execution_count": null,
      "id": "1e88dbd3-1498-458d-857d-83440bb34f1f",
      "metadata": {
        "id": "1e88dbd3-1498-458d-857d-83440bb34f1f",
        "outputId": "6bd5fef0-8236-4484-9a85-155f6fa3ce4a"
      },
      "outputs": [
        {
          "data": {
            "text/html": [
              "(No data)"
            ],
            "text/plain": [
              "(No data)"
            ]
          },
          "execution_count": 45,
          "metadata": {},
          "output_type": "execute_result"
        }
      ],
      "source": [
        "# 9) Delete every movie made by a director of your choosing\n",
        "query=\"\"\"\n",
        "MATCH (p:Person{name:\"Jessica Thompson\"})-[:DIRECTED]->(m:Movie)\n",
        "DETACH DELETE m\n",
        "\"\"\"\n",
        "graph.run(query)\n"
      ]
    },
    {
      "cell_type": "code",
      "execution_count": null,
      "id": "c5da2727-1da0-4f38-9a02-55fd10d546d4",
      "metadata": {
        "id": "c5da2727-1da0-4f38-9a02-55fd10d546d4",
        "outputId": "a88a4cad-3245-4a68-8a25-597c3cb21332"
      },
      "outputs": [
        {
          "data": {
            "text/html": [
              "<div>\n",
              "<style scoped>\n",
              "    .dataframe tbody tr th:only-of-type {\n",
              "        vertical-align: middle;\n",
              "    }\n",
              "\n",
              "    .dataframe tbody tr th {\n",
              "        vertical-align: top;\n",
              "    }\n",
              "\n",
              "    .dataframe thead th {\n",
              "        text-align: right;\n",
              "    }\n",
              "</style>\n",
              "<table border=\"1\" class=\"dataframe\">\n",
              "  <thead>\n",
              "    <tr style=\"text-align: right;\">\n",
              "      <th></th>\n",
              "      <th>Str</th>\n",
              "      <th>m.released</th>\n",
              "    </tr>\n",
              "  </thead>\n",
              "  <tbody>\n",
              "    <tr>\n",
              "      <th>count</th>\n",
              "      <td>16.000000</td>\n",
              "      <td>16.000000</td>\n",
              "    </tr>\n",
              "    <tr>\n",
              "      <th>mean</th>\n",
              "      <td>10.125000</td>\n",
              "      <td>1997.562500</td>\n",
              "    </tr>\n",
              "    <tr>\n",
              "      <th>std</th>\n",
              "      <td>8.777813</td>\n",
              "      <td>5.726765</td>\n",
              "    </tr>\n",
              "    <tr>\n",
              "      <th>min</th>\n",
              "      <td>2.000000</td>\n",
              "      <td>1990.000000</td>\n",
              "    </tr>\n",
              "    <tr>\n",
              "      <th>25%</th>\n",
              "      <td>4.000000</td>\n",
              "      <td>1994.500000</td>\n",
              "    </tr>\n",
              "    <tr>\n",
              "      <th>50%</th>\n",
              "      <td>6.000000</td>\n",
              "      <td>1998.000000</td>\n",
              "    </tr>\n",
              "    <tr>\n",
              "      <th>75%</th>\n",
              "      <td>16.000000</td>\n",
              "      <td>1999.000000</td>\n",
              "    </tr>\n",
              "    <tr>\n",
              "      <th>max</th>\n",
              "      <td>28.000000</td>\n",
              "      <td>2012.000000</td>\n",
              "    </tr>\n",
              "  </tbody>\n",
              "</table>\n",
              "</div>"
            ],
            "text/plain": [
              "             Str   m.released\n",
              "count  16.000000    16.000000\n",
              "mean   10.125000  1997.562500\n",
              "std     8.777813     5.726765\n",
              "min     2.000000  1990.000000\n",
              "25%     4.000000  1994.500000\n",
              "50%     6.000000  1998.000000\n",
              "75%    16.000000  1999.000000\n",
              "max    28.000000  2012.000000"
            ]
          },
          "execution_count": 82,
          "metadata": {},
          "output_type": "execute_result"
        }
      ],
      "source": [
        "# 10) Give some statistics that you find interesting.\n",
        "\n",
        "query1 = \"\"\"\n",
        "MATCH (tom:Person {name:\"Tom Hanks\"})-[:ACTED_IN]->(m)<-[:ACTED_IN]-(coActors),\n",
        "(coActors)-[:ACTED_IN]->(m2)<-[:ACTED_IN]-(cocoActors) , (m:Movie)\n",
        "WHERE NOT (tom)-[:ACTED_IN]->()<-[:ACTED_IN]-(cocoActors) AND tom <>cocoActors\n",
        "RETURN coActors.name AS Recommended, count(*) AS Str, m.released\n",
        "ORDER BY Str desc\n",
        "\"\"\"\n",
        "data = graph.run(query1).to_data_frame()\n",
        "data.describe()\n",
        "\n",
        "#On average, 10 people do not collaborate with Tom Hanks after being recommended"
      ]
    }
  ],
  "metadata": {
    "kernelspec": {
      "display_name": "Python 3 (ipykernel)",
      "language": "python",
      "name": "python3"
    },
    "language_info": {
      "codemirror_mode": {
        "name": "ipython",
        "version": 3
      },
      "file_extension": ".py",
      "mimetype": "text/x-python",
      "name": "python",
      "nbconvert_exporter": "python",
      "pygments_lexer": "ipython3",
      "version": "3.9.7"
    },
    "colab": {
      "provenance": []
    }
  },
  "nbformat": 4,
  "nbformat_minor": 5
}